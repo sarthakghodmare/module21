{
  "nbformat": 4,
  "nbformat_minor": 0,
  "metadata": {
    "colab": {
      "provenance": []
    },
    "kernelspec": {
      "name": "python3",
      "display_name": "Python 3"
    },
    "language_info": {
      "name": "python"
    }
  },
  "cells": [
    {
      "cell_type": "markdown",
      "source": [
        "Handling Outliers\n",
        "\n"
      ],
      "metadata": {
        "id": "bEv3_5LWcoqr"
      }
    },
    {
      "cell_type": "markdown",
      "source": [
        "#5 number summary\n",
        "1.Minimum value\n",
        "2.q1-25 percentile\n",
        "3.Medain\n",
        "4.q3-75 percentile\n",
        "5.Maximum"
      ],
      "metadata": {
        "id": "oa63l_Licybf"
      }
    },
    {
      "cell_type": "code",
      "source": [
        "import numpy as np\n",
        "lst_marks=[45,32,56,75,89,54,32,89,90,87,67,54,45,98,99,67,74,1000,1100]"
      ],
      "metadata": {
        "id": "hGQ-cHvRdCTL"
      },
      "execution_count": 2,
      "outputs": []
    },
    {
      "cell_type": "code",
      "source": [
        "np.percentile(lst_marks,[25])"
      ],
      "metadata": {
        "colab": {
          "base_uri": "https://localhost:8080/"
        },
        "id": "cDvPmuGGdOtC",
        "outputId": "fe44c411-4b46-4d72-ef21-d03fd2743caa"
      },
      "execution_count": 3,
      "outputs": [
        {
          "output_type": "execute_result",
          "data": {
            "text/plain": [
              "array([54.])"
            ]
          },
          "metadata": {},
          "execution_count": 3
        }
      ]
    },
    {
      "cell_type": "code",
      "source": [
        "np.percentile(lst_marks,[50])"
      ],
      "metadata": {
        "colab": {
          "base_uri": "https://localhost:8080/"
        },
        "id": "TXoUpQH2dzmm",
        "outputId": "0491c3b0-c733-4042-a7f3-8729c447292b"
      },
      "execution_count": 4,
      "outputs": [
        {
          "output_type": "execute_result",
          "data": {
            "text/plain": [
              "array([74.])"
            ]
          },
          "metadata": {},
          "execution_count": 4
        }
      ]
    },
    {
      "cell_type": "code",
      "source": [
        "np.percentile(lst_marks,[100])"
      ],
      "metadata": {
        "colab": {
          "base_uri": "https://localhost:8080/"
        },
        "id": "UMZkIHREeEbj",
        "outputId": "0be2ad81-60b2-4580-98bd-443a39566bce"
      },
      "execution_count": 5,
      "outputs": [
        {
          "output_type": "execute_result",
          "data": {
            "text/plain": [
              "array([1100.])"
            ]
          },
          "metadata": {},
          "execution_count": 5
        }
      ]
    },
    {
      "cell_type": "code",
      "source": [
        "np.percentile(lst_marks,[0])"
      ],
      "metadata": {
        "colab": {
          "base_uri": "https://localhost:8080/"
        },
        "id": "__g6_Z-PeFxJ",
        "outputId": "9b01a3a4-7bc7-4464-8efc-a43da9f82d4f"
      },
      "execution_count": 6,
      "outputs": [
        {
          "output_type": "execute_result",
          "data": {
            "text/plain": [
              "array([32.])"
            ]
          },
          "metadata": {},
          "execution_count": 6
        }
      ]
    },
    {
      "cell_type": "code",
      "source": [
        "#[lower fench<-->higher fench]\n",
        "q1=np.percentile(lst_marks,[25])\n",
        "print(q1)"
      ],
      "metadata": {
        "colab": {
          "base_uri": "https://localhost:8080/"
        },
        "id": "yqAWxShCeHCj",
        "outputId": "24b8a33b-49fb-4935-8970-727e545fc4b0"
      },
      "execution_count": 10,
      "outputs": [
        {
          "output_type": "stream",
          "name": "stdout",
          "text": [
            "[54.]\n"
          ]
        }
      ]
    },
    {
      "cell_type": "code",
      "source": [
        "minimum,q1,q2,q3,maximum=np.quantile(lst_marks,[0,0.25,0.50,0.75,1.0])"
      ],
      "metadata": {
        "id": "emjlHiSNek1O"
      },
      "execution_count": 11,
      "outputs": []
    },
    {
      "cell_type": "code",
      "source": [
        "maximum"
      ],
      "metadata": {
        "colab": {
          "base_uri": "https://localhost:8080/"
        },
        "id": "YpmsuvPZfQZZ",
        "outputId": "dde7bdab-7cec-4d86-edda-8329edf59b88"
      },
      "execution_count": 12,
      "outputs": [
        {
          "output_type": "execute_result",
          "data": {
            "text/plain": [
              "1100.0"
            ]
          },
          "metadata": {},
          "execution_count": 12
        }
      ]
    },
    {
      "cell_type": "code",
      "source": [
        "IQR=q3-q1#inter qurqatile range\n",
        "print(IQR)"
      ],
      "metadata": {
        "colab": {
          "base_uri": "https://localhost:8080/"
        },
        "id": "WQ88_ULvfSuB",
        "outputId": "2d44f4ad-0389-4758-d31a-989c3648ddb3"
      },
      "execution_count": 14,
      "outputs": [
        {
          "output_type": "stream",
          "name": "stdout",
          "text": [
            "35.5\n"
          ]
        }
      ]
    },
    {
      "cell_type": "code",
      "source": [
        "lower_fench=q1-1.5*(IQR)\n",
        "higher_fench=q3+1.5*(IQR)"
      ],
      "metadata": {
        "id": "07lV0nNAfbFn"
      },
      "execution_count": 16,
      "outputs": []
    },
    {
      "cell_type": "code",
      "source": [
        "lower_fench,higher_fench"
      ],
      "metadata": {
        "colab": {
          "base_uri": "https://localhost:8080/"
        },
        "id": "XhNiKpp9f40e",
        "outputId": "3baaaec6-2f93-4ed4-84ba-ec11bf241f66"
      },
      "execution_count": 18,
      "outputs": [
        {
          "output_type": "execute_result",
          "data": {
            "text/plain": [
              "(0.75, 142.75)"
            ]
          },
          "metadata": {},
          "execution_count": 18
        }
      ]
    },
    {
      "cell_type": "code",
      "source": [
        "outliers=[]\n",
        "for i in lst_marks:\n",
        "  if i>=0.75 and i<=142.75:\n",
        "    print(\"This elemenet is not an outliers\")\n",
        "  else:\n",
        "    outliers.append(i)"
      ],
      "metadata": {
        "colab": {
          "base_uri": "https://localhost:8080/"
        },
        "id": "EqGSfTECgC24",
        "outputId": "4c532f7d-169c-4f89-ed37-e923e8aceec6"
      },
      "execution_count": 21,
      "outputs": [
        {
          "output_type": "stream",
          "name": "stdout",
          "text": [
            "This elemenet is not an outliers\n",
            "This elemenet is not an outliers\n",
            "This elemenet is not an outliers\n",
            "This elemenet is not an outliers\n",
            "This elemenet is not an outliers\n",
            "This elemenet is not an outliers\n",
            "This elemenet is not an outliers\n",
            "This elemenet is not an outliers\n",
            "This elemenet is not an outliers\n",
            "This elemenet is not an outliers\n",
            "This elemenet is not an outliers\n",
            "This elemenet is not an outliers\n",
            "This elemenet is not an outliers\n",
            "This elemenet is not an outliers\n",
            "This elemenet is not an outliers\n",
            "This elemenet is not an outliers\n",
            "This elemenet is not an outliers\n"
          ]
        }
      ]
    },
    {
      "cell_type": "code",
      "source": [
        "outliers"
      ],
      "metadata": {
        "colab": {
          "base_uri": "https://localhost:8080/"
        },
        "id": "xpmqVwujgqVU",
        "outputId": "d09427f3-3185-4109-9c06-4e7e1ee60c6d"
      },
      "execution_count": 22,
      "outputs": [
        {
          "output_type": "execute_result",
          "data": {
            "text/plain": [
              "[1000, 1100]"
            ]
          },
          "metadata": {},
          "execution_count": 22
        }
      ]
    },
    {
      "cell_type": "code",
      "source": [
        "import seaborn as sns\n"
      ],
      "metadata": {
        "id": "CbGYnP2ZgxyW"
      },
      "execution_count": 23,
      "outputs": []
    },
    {
      "cell_type": "code",
      "source": [
        "sns.boxplot(lst_marks)"
      ],
      "metadata": {
        "colab": {
          "base_uri": "https://localhost:8080/",
          "height": 428
        },
        "id": "O97eMU1fg5JF",
        "outputId": "62c31303-719f-4fb0-d650-679e325a918b"
      },
      "execution_count": 24,
      "outputs": [
        {
          "output_type": "execute_result",
          "data": {
            "text/plain": [
              "<Axes: >"
            ]
          },
          "metadata": {},
          "execution_count": 24
        },
        {
          "output_type": "display_data",
          "data": {
            "text/plain": [
              "<Figure size 640x480 with 1 Axes>"
            ],
            "image/png": "[encoded data removed]"
          },
          "metadata": {}
        }
      ]
    },
    {
      "cell_type": "code",
      "source": [
        "lst_marks=[45,32,56,75,89,54,32,89,90,87,67,54,45,98,99,67,74]\n",
        "sns.boxplot(lst_marks)"
      ],
      "metadata": {
        "colab": {
          "base_uri": "https://localhost:8080/",
          "height": 428
        },
        "id": "UeQn0XLOhMZE",
        "outputId": "5ef79e1b-89fc-438d-8cb5-4a477c749de8"
      },
      "execution_count": 25,
      "outputs": [
        {
          "output_type": "execute_result",
          "data": {
            "text/plain": [
              "<Axes: >"
            ]
          },
          "metadata": {},
          "execution_count": 25
        },
        {
          "output_type": "display_data",
          "data": {
            "text/plain": [
              "<Figure size 640x480 with 1 Axes>"
            ],
            "image/png": "[encoded data removed]"
          },
          "metadata": {}
        }
      ]
    },
    {
      "cell_type": "code",
      "source": [],
      "metadata": {
        "id": "VcnFgHyShhpJ"
      },
      "execution_count": null,
      "outputs": []
    }
  ]
}